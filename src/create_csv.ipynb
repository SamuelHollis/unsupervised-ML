{
 "cells": [
  {
   "cell_type": "code",
   "execution_count": 6,
   "metadata": {},
   "outputs": [
    {
     "name": "stdout",
     "output_type": "stream",
     "text": [
      "Archivo guardado exitosamente en: C:\\Users\\samue\\OneDrive\\Escritorio\\4GeeksAcademy\\25a clase-Aprendizaje_no_supervisado\\unsupervised-ML\\data\\raw\\data.csv\n"
     ]
    }
   ],
   "source": [
    "import pandas as pd\n",
    "\n",
    "# URL del archivo CSV\n",
    "url = 'https://raw.githubusercontent.com/4GeeksAcademy/k-means-project-tutorial/main/housing.csv'\n",
    "\n",
    "# Leer el CSV desde la URL y cargarlo en un DataFrame\n",
    "df = pd.read_csv(url)\n",
    "\n",
    "# Guardar el DataFrame en un archivo CSV en la ruta especificada\n",
    "df.to_csv('C:\\Users\\samue\\OneDrive\\Escritorio\\4GeeksAcademy\\25a clase-Aprendizaje_no_supervisado\\unsupervised-ML\\data\\raw\\data.csv', index=False)"
   ]
  }
 ],
 "metadata": {
  "kernelspec": {
   "display_name": "Python 3",
   "language": "python",
   "name": "python3"
  },
  "language_info": {
   "codemirror_mode": {
    "name": "ipython",
    "version": 3
   },
   "file_extension": ".py",
   "mimetype": "text/x-python",
   "name": "python",
   "nbconvert_exporter": "python",
   "pygments_lexer": "ipython3",
   "version": "3.12.4"
  }
 },
 "nbformat": 4,
 "nbformat_minor": 2
}
